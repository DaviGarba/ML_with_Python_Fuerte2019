{
 "cells": [
  {
   "cell_type": "markdown",
   "metadata": {},
   "source": [
    "# Intro to Pandas\n",
    "\n",
    "## Rename Index and Columns Exercises"
   ]
  },
  {
   "cell_type": "markdown",
   "metadata": {},
   "source": [
    "1. Import Pandas and Numpy"
   ]
  },
  {
   "cell_type": "code",
   "execution_count": 1,
   "metadata": {},
   "outputs": [],
   "source": [
    "# Basic imports\n",
    "import pandas as pd\n",
    "import numpy as np\n"
   ]
  },
  {
   "cell_type": "markdown",
   "metadata": {},
   "source": [
    "#### Use the following DF "
   ]
  },
  {
   "cell_type": "code",
   "execution_count": 3,
   "metadata": {},
   "outputs": [
    {
     "data": {
      "text/html": [
       "<div>\n",
       "<style scoped>\n",
       "    .dataframe tbody tr th:only-of-type {\n",
       "        vertical-align: middle;\n",
       "    }\n",
       "\n",
       "    .dataframe tbody tr th {\n",
       "        vertical-align: top;\n",
       "    }\n",
       "\n",
       "    .dataframe thead th {\n",
       "        text-align: right;\n",
       "    }\n",
       "</style>\n",
       "<table border=\"1\" class=\"dataframe\">\n",
       "  <thead>\n",
       "    <tr style=\"text-align: right;\">\n",
       "      <th></th>\n",
       "      <th>Col1</th>\n",
       "      <th>Col2</th>\n",
       "      <th>Col3</th>\n",
       "      <th>Col4</th>\n",
       "    </tr>\n",
       "  </thead>\n",
       "  <tbody>\n",
       "    <tr>\n",
       "      <td>A</td>\n",
       "      <td>0.883721</td>\n",
       "      <td>1.558432</td>\n",
       "      <td>-0.772714</td>\n",
       "      <td>-0.141930</td>\n",
       "    </tr>\n",
       "    <tr>\n",
       "      <td>B</td>\n",
       "      <td>0.298319</td>\n",
       "      <td>-0.934107</td>\n",
       "      <td>-2.037638</td>\n",
       "      <td>-1.507889</td>\n",
       "    </tr>\n",
       "    <tr>\n",
       "      <td>C</td>\n",
       "      <td>0.140692</td>\n",
       "      <td>-0.082784</td>\n",
       "      <td>1.191690</td>\n",
       "      <td>1.124597</td>\n",
       "    </tr>\n",
       "    <tr>\n",
       "      <td>D</td>\n",
       "      <td>-1.911992</td>\n",
       "      <td>-0.879669</td>\n",
       "      <td>0.853755</td>\n",
       "      <td>1.500283</td>\n",
       "    </tr>\n",
       "  </tbody>\n",
       "</table>\n",
       "</div>"
      ],
      "text/plain": [
       "       Col1      Col2      Col3      Col4\n",
       "A  0.883721  1.558432 -0.772714 -0.141930\n",
       "B  0.298319 -0.934107 -2.037638 -1.507889\n",
       "C  0.140692 -0.082784  1.191690  1.124597\n",
       "D -1.911992 -0.879669  0.853755  1.500283"
      ]
     },
     "execution_count": 3,
     "metadata": {},
     "output_type": "execute_result"
    }
   ],
   "source": [
    "# set the data\n",
    "npdata = np.random.randn(16).reshape(4,4)\n",
    "\n",
    "# Create the DF\n",
    "df = pd.DataFrame(data= npdata, index = ['A', 'B', 'C', 'D'], columns= ['Col1', 'Col2', 'Col3', 'Col4'])\n",
    "\n",
    "# Show\n",
    "df"
   ]
  },
  {
   "cell_type": "markdown",
   "metadata": {},
   "source": [
    "## The .rename() method"
   ]
  },
  {
   "cell_type": "markdown",
   "metadata": {},
   "source": [
    "1. Put all the rows indexes lower case"
   ]
  },
  {
   "cell_type": "code",
   "execution_count": 24,
   "metadata": {},
   "outputs": [],
   "source": [
    "# Rows lower\n",
    "new = [x.lower() for x in list(df.index)]\n",
    "new_index = dict((key,value) for (key,value) in zip(list(df.index),new))\n",
    "df.rename(index = new_index, inplace = True)"
   ]
  },
  {
   "cell_type": "code",
   "execution_count": 25,
   "metadata": {},
   "outputs": [
    {
     "data": {
      "text/html": [
       "<div>\n",
       "<style scoped>\n",
       "    .dataframe tbody tr th:only-of-type {\n",
       "        vertical-align: middle;\n",
       "    }\n",
       "\n",
       "    .dataframe tbody tr th {\n",
       "        vertical-align: top;\n",
       "    }\n",
       "\n",
       "    .dataframe thead th {\n",
       "        text-align: right;\n",
       "    }\n",
       "</style>\n",
       "<table border=\"1\" class=\"dataframe\">\n",
       "  <thead>\n",
       "    <tr style=\"text-align: right;\">\n",
       "      <th></th>\n",
       "      <th>Col1</th>\n",
       "      <th>Col2</th>\n",
       "      <th>Col3</th>\n",
       "      <th>Col4</th>\n",
       "    </tr>\n",
       "  </thead>\n",
       "  <tbody>\n",
       "    <tr>\n",
       "      <td>a</td>\n",
       "      <td>0.883721</td>\n",
       "      <td>1.558432</td>\n",
       "      <td>-0.772714</td>\n",
       "      <td>-0.141930</td>\n",
       "    </tr>\n",
       "    <tr>\n",
       "      <td>b</td>\n",
       "      <td>0.298319</td>\n",
       "      <td>-0.934107</td>\n",
       "      <td>-2.037638</td>\n",
       "      <td>-1.507889</td>\n",
       "    </tr>\n",
       "    <tr>\n",
       "      <td>c</td>\n",
       "      <td>0.140692</td>\n",
       "      <td>-0.082784</td>\n",
       "      <td>1.191690</td>\n",
       "      <td>1.124597</td>\n",
       "    </tr>\n",
       "    <tr>\n",
       "      <td>d</td>\n",
       "      <td>-1.911992</td>\n",
       "      <td>-0.879669</td>\n",
       "      <td>0.853755</td>\n",
       "      <td>1.500283</td>\n",
       "    </tr>\n",
       "  </tbody>\n",
       "</table>\n",
       "</div>"
      ],
      "text/plain": [
       "       Col1      Col2      Col3      Col4\n",
       "a  0.883721  1.558432 -0.772714 -0.141930\n",
       "b  0.298319 -0.934107 -2.037638 -1.507889\n",
       "c  0.140692 -0.082784  1.191690  1.124597\n",
       "d -1.911992 -0.879669  0.853755  1.500283"
      ]
     },
     "execution_count": 25,
     "metadata": {},
     "output_type": "execute_result"
    }
   ],
   "source": [
    "df"
   ]
  },
  {
   "cell_type": "markdown",
   "metadata": {},
   "source": [
    "2. Put all the columns name upper case"
   ]
  },
  {
   "cell_type": "code",
   "execution_count": 26,
   "metadata": {},
   "outputs": [],
   "source": [
    "# Columns upper\n",
    "new = [x.upper() for x in list(df.columns)]\n",
    "new_col = dict((key,value) for (key,value) in zip(list(df.columns),new))\n",
    "df.rename(columns= new_col, inplace = True)"
   ]
  },
  {
   "cell_type": "code",
   "execution_count": 27,
   "metadata": {},
   "outputs": [
    {
     "data": {
      "text/html": [
       "<div>\n",
       "<style scoped>\n",
       "    .dataframe tbody tr th:only-of-type {\n",
       "        vertical-align: middle;\n",
       "    }\n",
       "\n",
       "    .dataframe tbody tr th {\n",
       "        vertical-align: top;\n",
       "    }\n",
       "\n",
       "    .dataframe thead th {\n",
       "        text-align: right;\n",
       "    }\n",
       "</style>\n",
       "<table border=\"1\" class=\"dataframe\">\n",
       "  <thead>\n",
       "    <tr style=\"text-align: right;\">\n",
       "      <th></th>\n",
       "      <th>COL1</th>\n",
       "      <th>COL2</th>\n",
       "      <th>COL3</th>\n",
       "      <th>COL4</th>\n",
       "    </tr>\n",
       "  </thead>\n",
       "  <tbody>\n",
       "    <tr>\n",
       "      <td>a</td>\n",
       "      <td>0.883721</td>\n",
       "      <td>1.558432</td>\n",
       "      <td>-0.772714</td>\n",
       "      <td>-0.141930</td>\n",
       "    </tr>\n",
       "    <tr>\n",
       "      <td>b</td>\n",
       "      <td>0.298319</td>\n",
       "      <td>-0.934107</td>\n",
       "      <td>-2.037638</td>\n",
       "      <td>-1.507889</td>\n",
       "    </tr>\n",
       "    <tr>\n",
       "      <td>c</td>\n",
       "      <td>0.140692</td>\n",
       "      <td>-0.082784</td>\n",
       "      <td>1.191690</td>\n",
       "      <td>1.124597</td>\n",
       "    </tr>\n",
       "    <tr>\n",
       "      <td>d</td>\n",
       "      <td>-1.911992</td>\n",
       "      <td>-0.879669</td>\n",
       "      <td>0.853755</td>\n",
       "      <td>1.500283</td>\n",
       "    </tr>\n",
       "  </tbody>\n",
       "</table>\n",
       "</div>"
      ],
      "text/plain": [
       "       COL1      COL2      COL3      COL4\n",
       "a  0.883721  1.558432 -0.772714 -0.141930\n",
       "b  0.298319 -0.934107 -2.037638 -1.507889\n",
       "c  0.140692 -0.082784  1.191690  1.124597\n",
       "d -1.911992 -0.879669  0.853755  1.500283"
      ]
     },
     "execution_count": 27,
     "metadata": {},
     "output_type": "execute_result"
    }
   ],
   "source": [
    "df"
   ]
  },
  {
   "cell_type": "markdown",
   "metadata": {},
   "source": [
    "### Rename using mapping\n",
    "\n",
    "3. Rename all the rows with the following names ('alfa', 'beta', 'gamma', 'teta')"
   ]
  },
  {
   "cell_type": "code",
   "execution_count": 29,
   "metadata": {},
   "outputs": [],
   "source": [
    "# Rename index\n",
    "new = ['alpha','beta','gamma','teta']\n",
    "new_index = dict((key,value) for (key,value) in zip(list(df.index),new))\n",
    "df.rename(index = new_index, inplace = True)"
   ]
  },
  {
   "cell_type": "code",
   "execution_count": 30,
   "metadata": {},
   "outputs": [
    {
     "data": {
      "text/html": [
       "<div>\n",
       "<style scoped>\n",
       "    .dataframe tbody tr th:only-of-type {\n",
       "        vertical-align: middle;\n",
       "    }\n",
       "\n",
       "    .dataframe tbody tr th {\n",
       "        vertical-align: top;\n",
       "    }\n",
       "\n",
       "    .dataframe thead th {\n",
       "        text-align: right;\n",
       "    }\n",
       "</style>\n",
       "<table border=\"1\" class=\"dataframe\">\n",
       "  <thead>\n",
       "    <tr style=\"text-align: right;\">\n",
       "      <th></th>\n",
       "      <th>COL1</th>\n",
       "      <th>COL2</th>\n",
       "      <th>COL3</th>\n",
       "      <th>COL4</th>\n",
       "    </tr>\n",
       "  </thead>\n",
       "  <tbody>\n",
       "    <tr>\n",
       "      <td>alpha</td>\n",
       "      <td>0.883721</td>\n",
       "      <td>1.558432</td>\n",
       "      <td>-0.772714</td>\n",
       "      <td>-0.141930</td>\n",
       "    </tr>\n",
       "    <tr>\n",
       "      <td>beta</td>\n",
       "      <td>0.298319</td>\n",
       "      <td>-0.934107</td>\n",
       "      <td>-2.037638</td>\n",
       "      <td>-1.507889</td>\n",
       "    </tr>\n",
       "    <tr>\n",
       "      <td>gamma</td>\n",
       "      <td>0.140692</td>\n",
       "      <td>-0.082784</td>\n",
       "      <td>1.191690</td>\n",
       "      <td>1.124597</td>\n",
       "    </tr>\n",
       "    <tr>\n",
       "      <td>teta</td>\n",
       "      <td>-1.911992</td>\n",
       "      <td>-0.879669</td>\n",
       "      <td>0.853755</td>\n",
       "      <td>1.500283</td>\n",
       "    </tr>\n",
       "  </tbody>\n",
       "</table>\n",
       "</div>"
      ],
      "text/plain": [
       "           COL1      COL2      COL3      COL4\n",
       "alpha  0.883721  1.558432 -0.772714 -0.141930\n",
       "beta   0.298319 -0.934107 -2.037638 -1.507889\n",
       "gamma  0.140692 -0.082784  1.191690  1.124597\n",
       "teta  -1.911992 -0.879669  0.853755  1.500283"
      ]
     },
     "execution_count": 30,
     "metadata": {},
     "output_type": "execute_result"
    }
   ],
   "source": [
    "df"
   ]
  },
  {
   "cell_type": "markdown",
   "metadata": {},
   "source": [
    "4. Rename 'Col1' to 'A1' and 'Col4' to 'D4'"
   ]
  },
  {
   "cell_type": "code",
   "execution_count": 31,
   "metadata": {},
   "outputs": [],
   "source": [
    "# Rename columns\n",
    "new = ['A1','D4']\n",
    "new_col = dict((key,value) for (key,value) in zip([list(df.columns)[0],list(df.columns)[2]],new))\n",
    "df.rename(columns = new_col, inplace = True)"
   ]
  },
  {
   "cell_type": "code",
   "execution_count": 32,
   "metadata": {},
   "outputs": [
    {
     "data": {
      "text/html": [
       "<div>\n",
       "<style scoped>\n",
       "    .dataframe tbody tr th:only-of-type {\n",
       "        vertical-align: middle;\n",
       "    }\n",
       "\n",
       "    .dataframe tbody tr th {\n",
       "        vertical-align: top;\n",
       "    }\n",
       "\n",
       "    .dataframe thead th {\n",
       "        text-align: right;\n",
       "    }\n",
       "</style>\n",
       "<table border=\"1\" class=\"dataframe\">\n",
       "  <thead>\n",
       "    <tr style=\"text-align: right;\">\n",
       "      <th></th>\n",
       "      <th>A1</th>\n",
       "      <th>COL2</th>\n",
       "      <th>D4</th>\n",
       "      <th>COL4</th>\n",
       "    </tr>\n",
       "  </thead>\n",
       "  <tbody>\n",
       "    <tr>\n",
       "      <td>alpha</td>\n",
       "      <td>0.883721</td>\n",
       "      <td>1.558432</td>\n",
       "      <td>-0.772714</td>\n",
       "      <td>-0.141930</td>\n",
       "    </tr>\n",
       "    <tr>\n",
       "      <td>beta</td>\n",
       "      <td>0.298319</td>\n",
       "      <td>-0.934107</td>\n",
       "      <td>-2.037638</td>\n",
       "      <td>-1.507889</td>\n",
       "    </tr>\n",
       "    <tr>\n",
       "      <td>gamma</td>\n",
       "      <td>0.140692</td>\n",
       "      <td>-0.082784</td>\n",
       "      <td>1.191690</td>\n",
       "      <td>1.124597</td>\n",
       "    </tr>\n",
       "    <tr>\n",
       "      <td>teta</td>\n",
       "      <td>-1.911992</td>\n",
       "      <td>-0.879669</td>\n",
       "      <td>0.853755</td>\n",
       "      <td>1.500283</td>\n",
       "    </tr>\n",
       "  </tbody>\n",
       "</table>\n",
       "</div>"
      ],
      "text/plain": [
       "             A1      COL2        D4      COL4\n",
       "alpha  0.883721  1.558432 -0.772714 -0.141930\n",
       "beta   0.298319 -0.934107 -2.037638 -1.507889\n",
       "gamma  0.140692 -0.082784  1.191690  1.124597\n",
       "teta  -1.911992 -0.879669  0.853755  1.500283"
      ]
     },
     "execution_count": 32,
     "metadata": {},
     "output_type": "execute_result"
    }
   ],
   "source": [
    "df"
   ]
  },
  {
   "cell_type": "markdown",
   "metadata": {},
   "source": [
    "5. Rename again all the columns of the df using the following list."
   ]
  },
  {
   "cell_type": "code",
   "execution_count": 33,
   "metadata": {},
   "outputs": [],
   "source": [
    "new_cols = ['ab','bc','cd','df']\n",
    "new_col = dict((key,value) for (key,value) in zip(list(df.columns),new_cols))\n",
    "df.rename(columns = new_col, inplace = True)"
   ]
  },
  {
   "cell_type": "code",
   "execution_count": 34,
   "metadata": {},
   "outputs": [
    {
     "data": {
      "text/html": [
       "<div>\n",
       "<style scoped>\n",
       "    .dataframe tbody tr th:only-of-type {\n",
       "        vertical-align: middle;\n",
       "    }\n",
       "\n",
       "    .dataframe tbody tr th {\n",
       "        vertical-align: top;\n",
       "    }\n",
       "\n",
       "    .dataframe thead th {\n",
       "        text-align: right;\n",
       "    }\n",
       "</style>\n",
       "<table border=\"1\" class=\"dataframe\">\n",
       "  <thead>\n",
       "    <tr style=\"text-align: right;\">\n",
       "      <th></th>\n",
       "      <th>ab</th>\n",
       "      <th>bc</th>\n",
       "      <th>cd</th>\n",
       "      <th>df</th>\n",
       "    </tr>\n",
       "  </thead>\n",
       "  <tbody>\n",
       "    <tr>\n",
       "      <td>alpha</td>\n",
       "      <td>0.883721</td>\n",
       "      <td>1.558432</td>\n",
       "      <td>-0.772714</td>\n",
       "      <td>-0.141930</td>\n",
       "    </tr>\n",
       "    <tr>\n",
       "      <td>beta</td>\n",
       "      <td>0.298319</td>\n",
       "      <td>-0.934107</td>\n",
       "      <td>-2.037638</td>\n",
       "      <td>-1.507889</td>\n",
       "    </tr>\n",
       "    <tr>\n",
       "      <td>gamma</td>\n",
       "      <td>0.140692</td>\n",
       "      <td>-0.082784</td>\n",
       "      <td>1.191690</td>\n",
       "      <td>1.124597</td>\n",
       "    </tr>\n",
       "    <tr>\n",
       "      <td>teta</td>\n",
       "      <td>-1.911992</td>\n",
       "      <td>-0.879669</td>\n",
       "      <td>0.853755</td>\n",
       "      <td>1.500283</td>\n",
       "    </tr>\n",
       "  </tbody>\n",
       "</table>\n",
       "</div>"
      ],
      "text/plain": [
       "             ab        bc        cd        df\n",
       "alpha  0.883721  1.558432 -0.772714 -0.141930\n",
       "beta   0.298319 -0.934107 -2.037638 -1.507889\n",
       "gamma  0.140692 -0.082784  1.191690  1.124597\n",
       "teta  -1.911992 -0.879669  0.853755  1.500283"
      ]
     },
     "execution_count": 34,
     "metadata": {},
     "output_type": "execute_result"
    }
   ],
   "source": [
    "# Rename again df\n",
    "df"
   ]
  },
  {
   "cell_type": "markdown",
   "metadata": {},
   "source": [
    "# Good Job!"
   ]
  },
  {
   "cell_type": "code",
   "execution_count": null,
   "metadata": {},
   "outputs": [],
   "source": []
  }
 ],
 "metadata": {
  "kernelspec": {
   "display_name": "Python 3",
   "language": "python",
   "name": "python3"
  },
  "language_info": {
   "codemirror_mode": {
    "name": "ipython",
    "version": 3
   },
   "file_extension": ".py",
   "mimetype": "text/x-python",
   "name": "python",
   "nbconvert_exporter": "python",
   "pygments_lexer": "ipython3",
   "version": "3.7.4"
  }
 },
 "nbformat": 4,
 "nbformat_minor": 1
}
