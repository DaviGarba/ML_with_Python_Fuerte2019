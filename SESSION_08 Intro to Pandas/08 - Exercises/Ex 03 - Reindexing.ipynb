{
 "cells": [
  {
   "cell_type": "markdown",
   "metadata": {},
   "source": [
    "# Intro to Pandas\n",
    "\n",
    "## Reindex Exercises"
   ]
  },
  {
   "cell_type": "markdown",
   "metadata": {},
   "source": [
    "Import Pandas and Numpy"
   ]
  },
  {
   "cell_type": "code",
   "execution_count": 1,
   "metadata": {},
   "outputs": [],
   "source": [
    "# Basic Imports\n",
    "import pandas as pd\n",
    "import numpy as np\n",
    "import matplotlib.pyplot as plt\n",
    "\n",
    "%matplotlib inline\n"
   ]
  },
  {
   "cell_type": "markdown",
   "metadata": {},
   "source": [
    "### .reindex() method\n",
    "\n",
    "1. Create a series from range 1 to 6 and index every value with the letter from \"A\" to \"F\"."
   ]
  },
  {
   "cell_type": "code",
   "execution_count": 4,
   "metadata": {},
   "outputs": [],
   "source": [
    "# Lets create a new series\n",
    "ser1 = pd.Series(range(1,7), index=['A','B','C','D','E','F'])"
   ]
  },
  {
   "cell_type": "code",
   "execution_count": 5,
   "metadata": {},
   "outputs": [
    {
     "data": {
      "text/plain": [
       "A    1\n",
       "B    2\n",
       "C    3\n",
       "D    4\n",
       "E    5\n",
       "F    6\n",
       "dtype: int64"
      ]
     },
     "execution_count": 5,
     "metadata": {},
     "output_type": "execute_result"
    }
   ],
   "source": [
    "# print the ser1\n",
    "ser1"
   ]
  },
  {
   "cell_type": "markdown",
   "metadata": {},
   "source": [
    " 2. Reindex the series and adding the letters \"G\" and \"H\""
   ]
  },
  {
   "cell_type": "code",
   "execution_count": 12,
   "metadata": {},
   "outputs": [],
   "source": [
    "# Reindex the ser1\n",
    "#ser2 = ser1.reindex()"
   ]
  },
  {
   "cell_type": "code",
   "execution_count": 13,
   "metadata": {},
   "outputs": [],
   "source": [
    "# print the ser2\n",
    "#ser2"
   ]
  },
  {
   "cell_type": "markdown",
   "metadata": {},
   "source": [
    "3. Reindex the ser2 with the letter \"Z\" and fill it with the value 100."
   ]
  },
  {
   "cell_type": "code",
   "execution_count": 3,
   "metadata": {},
   "outputs": [],
   "source": [
    "# Reindex ser2\n",
    "ser2"
   ]
  },
  {
   "cell_type": "markdown",
   "metadata": {},
   "source": [
    "### Reindexing rows and columns of DF"
   ]
  },
  {
   "cell_type": "code",
   "execution_count": 26,
   "metadata": {},
   "outputs": [
    {
     "data": {
      "text/html": [
       "<div>\n",
       "<style scoped>\n",
       "    .dataframe tbody tr th:only-of-type {\n",
       "        vertical-align: middle;\n",
       "    }\n",
       "\n",
       "    .dataframe tbody tr th {\n",
       "        vertical-align: top;\n",
       "    }\n",
       "\n",
       "    .dataframe thead th {\n",
       "        text-align: right;\n",
       "    }\n",
       "</style>\n",
       "<table border=\"1\" class=\"dataframe\">\n",
       "  <thead>\n",
       "    <tr style=\"text-align: right;\">\n",
       "      <th></th>\n",
       "      <th>CL1</th>\n",
       "      <th>CL2</th>\n",
       "      <th>CL3</th>\n",
       "      <th>CL4</th>\n",
       "    </tr>\n",
       "  </thead>\n",
       "  <tbody>\n",
       "    <tr>\n",
       "      <td>A</td>\n",
       "      <td>-0.077581</td>\n",
       "      <td>-0.822122</td>\n",
       "      <td>0.845988</td>\n",
       "      <td>-0.887445</td>\n",
       "    </tr>\n",
       "    <tr>\n",
       "      <td>D</td>\n",
       "      <td>-0.007662</td>\n",
       "      <td>-0.037144</td>\n",
       "      <td>-0.774260</td>\n",
       "      <td>0.180690</td>\n",
       "    </tr>\n",
       "    <tr>\n",
       "      <td>E</td>\n",
       "      <td>-1.783228</td>\n",
       "      <td>-0.723801</td>\n",
       "      <td>-1.462052</td>\n",
       "      <td>-1.878145</td>\n",
       "    </tr>\n",
       "    <tr>\n",
       "      <td>F</td>\n",
       "      <td>-0.992983</td>\n",
       "      <td>1.056568</td>\n",
       "      <td>-0.903851</td>\n",
       "      <td>1.389918</td>\n",
       "    </tr>\n",
       "    <tr>\n",
       "      <td>G</td>\n",
       "      <td>-0.375399</td>\n",
       "      <td>-1.091669</td>\n",
       "      <td>-2.095901</td>\n",
       "      <td>-1.914368</td>\n",
       "    </tr>\n",
       "  </tbody>\n",
       "</table>\n",
       "</div>"
      ],
      "text/plain": [
       "        CL1       CL2       CL3       CL4\n",
       "A -0.077581 -0.822122  0.845988 -0.887445\n",
       "D -0.007662 -0.037144 -0.774260  0.180690\n",
       "E -1.783228 -0.723801 -1.462052 -1.878145\n",
       "F -0.992983  1.056568 -0.903851  1.389918\n",
       "G -0.375399 -1.091669 -2.095901 -1.914368"
      ]
     },
     "execution_count": 26,
     "metadata": {},
     "output_type": "execute_result"
    }
   ],
   "source": [
    "# Import numpy random.randn\n",
    "from numpy.random import randn\n",
    "randn_data = randn(20).reshape((5,4))\n",
    "\n",
    "#Lets make a datafram ewith some random values\n",
    "df1 = pd.DataFrame(data = randn_data, index=['A','D','E','F','G'], columns=['CL1','CL2','CL3','CL4'])\n",
    "\n",
    "#Show\n",
    "df1"
   ]
  },
  {
   "cell_type": "markdown",
   "metadata": {},
   "source": [
    "4. Use the reindex method on df1 and add the row \"B\""
   ]
  },
  {
   "cell_type": "code",
   "execution_count": 27,
   "metadata": {},
   "outputs": [
    {
     "data": {
      "text/html": [
       "<div>\n",
       "<style scoped>\n",
       "    .dataframe tbody tr th:only-of-type {\n",
       "        vertical-align: middle;\n",
       "    }\n",
       "\n",
       "    .dataframe tbody tr th {\n",
       "        vertical-align: top;\n",
       "    }\n",
       "\n",
       "    .dataframe thead th {\n",
       "        text-align: right;\n",
       "    }\n",
       "</style>\n",
       "<table border=\"1\" class=\"dataframe\">\n",
       "  <thead>\n",
       "    <tr style=\"text-align: right;\">\n",
       "      <th></th>\n",
       "      <th>CL1</th>\n",
       "      <th>CL2</th>\n",
       "      <th>CL3</th>\n",
       "      <th>CL4</th>\n",
       "    </tr>\n",
       "  </thead>\n",
       "  <tbody>\n",
       "    <tr>\n",
       "      <td>A</td>\n",
       "      <td>-0.0775813</td>\n",
       "      <td>-0.822122</td>\n",
       "      <td>0.845988</td>\n",
       "      <td>-0.887445</td>\n",
       "    </tr>\n",
       "    <tr>\n",
       "      <td>D</td>\n",
       "      <td>-0.00766232</td>\n",
       "      <td>-0.0371441</td>\n",
       "      <td>-0.77426</td>\n",
       "      <td>0.18069</td>\n",
       "    </tr>\n",
       "    <tr>\n",
       "      <td>E</td>\n",
       "      <td>-1.78323</td>\n",
       "      <td>-0.723801</td>\n",
       "      <td>-1.46205</td>\n",
       "      <td>-1.87814</td>\n",
       "    </tr>\n",
       "    <tr>\n",
       "      <td>F</td>\n",
       "      <td>-0.992983</td>\n",
       "      <td>1.05657</td>\n",
       "      <td>-0.903851</td>\n",
       "      <td>1.38992</td>\n",
       "    </tr>\n",
       "    <tr>\n",
       "      <td>G</td>\n",
       "      <td>-0.375399</td>\n",
       "      <td>-1.09167</td>\n",
       "      <td>-2.0959</td>\n",
       "      <td>-1.91437</td>\n",
       "    </tr>\n",
       "    <tr>\n",
       "      <td>B</td>\n",
       "      <td>missing</td>\n",
       "      <td>missing</td>\n",
       "      <td>missing</td>\n",
       "      <td>missing</td>\n",
       "    </tr>\n",
       "  </tbody>\n",
       "</table>\n",
       "</div>"
      ],
      "text/plain": [
       "          CL1        CL2       CL3       CL4\n",
       "A  -0.0775813  -0.822122  0.845988 -0.887445\n",
       "D -0.00766232 -0.0371441  -0.77426   0.18069\n",
       "E    -1.78323  -0.723801  -1.46205  -1.87814\n",
       "F   -0.992983    1.05657 -0.903851   1.38992\n",
       "G   -0.375399   -1.09167   -2.0959  -1.91437\n",
       "B     missing    missing   missing   missing"
      ]
     },
     "execution_count": 27,
     "metadata": {},
     "output_type": "execute_result"
    }
   ],
   "source": [
    "# Add row B\n",
    "new_index = list(df1.index)+['B']\n",
    "df1 = df1.reindex(index=new_index, fill_value='missing')\n",
    "df1"
   ]
  },
  {
   "cell_type": "markdown",
   "metadata": {},
   "source": [
    "5. Use the reindex method on df1 and add a new column \"CL5\""
   ]
  },
  {
   "cell_type": "code",
   "execution_count": 28,
   "metadata": {},
   "outputs": [
    {
     "data": {
      "text/html": [
       "<div>\n",
       "<style scoped>\n",
       "    .dataframe tbody tr th:only-of-type {\n",
       "        vertical-align: middle;\n",
       "    }\n",
       "\n",
       "    .dataframe tbody tr th {\n",
       "        vertical-align: top;\n",
       "    }\n",
       "\n",
       "    .dataframe thead th {\n",
       "        text-align: right;\n",
       "    }\n",
       "</style>\n",
       "<table border=\"1\" class=\"dataframe\">\n",
       "  <thead>\n",
       "    <tr style=\"text-align: right;\">\n",
       "      <th></th>\n",
       "      <th>CL1</th>\n",
       "      <th>CL2</th>\n",
       "      <th>CL3</th>\n",
       "      <th>CL4</th>\n",
       "      <th>CL5</th>\n",
       "    </tr>\n",
       "  </thead>\n",
       "  <tbody>\n",
       "    <tr>\n",
       "      <td>A</td>\n",
       "      <td>-0.0775813</td>\n",
       "      <td>-0.822122</td>\n",
       "      <td>0.845988</td>\n",
       "      <td>-0.887445</td>\n",
       "      <td>missing</td>\n",
       "    </tr>\n",
       "    <tr>\n",
       "      <td>D</td>\n",
       "      <td>-0.00766232</td>\n",
       "      <td>-0.0371441</td>\n",
       "      <td>-0.77426</td>\n",
       "      <td>0.18069</td>\n",
       "      <td>missing</td>\n",
       "    </tr>\n",
       "    <tr>\n",
       "      <td>E</td>\n",
       "      <td>-1.78323</td>\n",
       "      <td>-0.723801</td>\n",
       "      <td>-1.46205</td>\n",
       "      <td>-1.87814</td>\n",
       "      <td>missing</td>\n",
       "    </tr>\n",
       "    <tr>\n",
       "      <td>F</td>\n",
       "      <td>-0.992983</td>\n",
       "      <td>1.05657</td>\n",
       "      <td>-0.903851</td>\n",
       "      <td>1.38992</td>\n",
       "      <td>missing</td>\n",
       "    </tr>\n",
       "    <tr>\n",
       "      <td>G</td>\n",
       "      <td>-0.375399</td>\n",
       "      <td>-1.09167</td>\n",
       "      <td>-2.0959</td>\n",
       "      <td>-1.91437</td>\n",
       "      <td>missing</td>\n",
       "    </tr>\n",
       "    <tr>\n",
       "      <td>B</td>\n",
       "      <td>missing</td>\n",
       "      <td>missing</td>\n",
       "      <td>missing</td>\n",
       "      <td>missing</td>\n",
       "      <td>missing</td>\n",
       "    </tr>\n",
       "  </tbody>\n",
       "</table>\n",
       "</div>"
      ],
      "text/plain": [
       "          CL1        CL2       CL3       CL4      CL5\n",
       "A  -0.0775813  -0.822122  0.845988 -0.887445  missing\n",
       "D -0.00766232 -0.0371441  -0.77426   0.18069  missing\n",
       "E    -1.78323  -0.723801  -1.46205  -1.87814  missing\n",
       "F   -0.992983    1.05657 -0.903851   1.38992  missing\n",
       "G   -0.375399   -1.09167   -2.0959  -1.91437  missing\n",
       "B     missing    missing   missing   missing  missing"
      ]
     },
     "execution_count": 28,
     "metadata": {},
     "output_type": "execute_result"
    }
   ],
   "source": [
    "# Add new column CL5\n",
    "df1 = df1.reindex(columns=list(df1.columns)+['CL5'], fill_value='missing')\n",
    "df1"
   ]
  },
  {
   "cell_type": "markdown",
   "metadata": {},
   "source": [
    "### Rename columns\n",
    "\n",
    "5. Use the .rename() method and rename the column of df1 to ('A1','B2','C3','D4')"
   ]
  },
  {
   "cell_type": "code",
   "execution_count": 30,
   "metadata": {},
   "outputs": [],
   "source": [
    "# Rename df1 columns\n",
    "df1 = df1.rename(columns={'CL1':'A1','CL2':'B2','CL3':'C3','CL4':'D4','CL5':'E5'})"
   ]
  },
  {
   "cell_type": "code",
   "execution_count": 31,
   "metadata": {},
   "outputs": [
    {
     "data": {
      "text/html": [
       "<div>\n",
       "<style scoped>\n",
       "    .dataframe tbody tr th:only-of-type {\n",
       "        vertical-align: middle;\n",
       "    }\n",
       "\n",
       "    .dataframe tbody tr th {\n",
       "        vertical-align: top;\n",
       "    }\n",
       "\n",
       "    .dataframe thead th {\n",
       "        text-align: right;\n",
       "    }\n",
       "</style>\n",
       "<table border=\"1\" class=\"dataframe\">\n",
       "  <thead>\n",
       "    <tr style=\"text-align: right;\">\n",
       "      <th></th>\n",
       "      <th>A1</th>\n",
       "      <th>B2</th>\n",
       "      <th>C3</th>\n",
       "      <th>D4</th>\n",
       "      <th>E5</th>\n",
       "    </tr>\n",
       "  </thead>\n",
       "  <tbody>\n",
       "    <tr>\n",
       "      <td>A</td>\n",
       "      <td>-0.0775813</td>\n",
       "      <td>-0.822122</td>\n",
       "      <td>0.845988</td>\n",
       "      <td>-0.887445</td>\n",
       "      <td>missing</td>\n",
       "    </tr>\n",
       "    <tr>\n",
       "      <td>D</td>\n",
       "      <td>-0.00766232</td>\n",
       "      <td>-0.0371441</td>\n",
       "      <td>-0.77426</td>\n",
       "      <td>0.18069</td>\n",
       "      <td>missing</td>\n",
       "    </tr>\n",
       "    <tr>\n",
       "      <td>E</td>\n",
       "      <td>-1.78323</td>\n",
       "      <td>-0.723801</td>\n",
       "      <td>-1.46205</td>\n",
       "      <td>-1.87814</td>\n",
       "      <td>missing</td>\n",
       "    </tr>\n",
       "    <tr>\n",
       "      <td>F</td>\n",
       "      <td>-0.992983</td>\n",
       "      <td>1.05657</td>\n",
       "      <td>-0.903851</td>\n",
       "      <td>1.38992</td>\n",
       "      <td>missing</td>\n",
       "    </tr>\n",
       "    <tr>\n",
       "      <td>G</td>\n",
       "      <td>-0.375399</td>\n",
       "      <td>-1.09167</td>\n",
       "      <td>-2.0959</td>\n",
       "      <td>-1.91437</td>\n",
       "      <td>missing</td>\n",
       "    </tr>\n",
       "    <tr>\n",
       "      <td>B</td>\n",
       "      <td>missing</td>\n",
       "      <td>missing</td>\n",
       "      <td>missing</td>\n",
       "      <td>missing</td>\n",
       "      <td>missing</td>\n",
       "    </tr>\n",
       "  </tbody>\n",
       "</table>\n",
       "</div>"
      ],
      "text/plain": [
       "           A1         B2        C3        D4       E5\n",
       "A  -0.0775813  -0.822122  0.845988 -0.887445  missing\n",
       "D -0.00766232 -0.0371441  -0.77426   0.18069  missing\n",
       "E    -1.78323  -0.723801  -1.46205  -1.87814  missing\n",
       "F   -0.992983    1.05657 -0.903851   1.38992  missing\n",
       "G   -0.375399   -1.09167   -2.0959  -1.91437  missing\n",
       "B     missing    missing   missing   missing  missing"
      ]
     },
     "execution_count": 31,
     "metadata": {},
     "output_type": "execute_result"
    }
   ],
   "source": [
    "df1"
   ]
  },
  {
   "cell_type": "markdown",
   "metadata": {},
   "source": [
    "# Congratulation! Exercises completed!"
   ]
  },
  {
   "cell_type": "code",
   "execution_count": null,
   "metadata": {},
   "outputs": [],
   "source": []
  }
 ],
 "metadata": {
  "kernelspec": {
   "display_name": "Python 3",
   "language": "python",
   "name": "python3"
  },
  "language_info": {
   "codemirror_mode": {
    "name": "ipython",
    "version": 3
   },
   "file_extension": ".py",
   "mimetype": "text/x-python",
   "name": "python",
   "nbconvert_exporter": "python",
   "pygments_lexer": "ipython3",
   "version": "3.7.4"
  }
 },
 "nbformat": 4,
 "nbformat_minor": 1
}
