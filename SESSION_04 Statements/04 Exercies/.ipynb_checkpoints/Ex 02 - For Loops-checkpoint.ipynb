{
 "cells": [
  {
   "cell_type": "markdown",
   "metadata": {},
   "source": [
    "# for Loops\n",
    "![alt text](for.png \"for\")\n",
    "\n",
    "## Exercises\n",
    "\n",
    "General format for a **for** loop in Python:\n",
    "\n",
    "    for item in object:\n",
    "        statements to do stuff\n",
    "    "
   ]
  },
  {
   "cell_type": "markdown",
   "metadata": {},
   "source": [
    "1. Create a list from 1 to 6. Loop over the list and print every value"
   ]
  },
  {
   "cell_type": "code",
   "execution_count": 3,
   "metadata": {},
   "outputs": [
    {
     "name": "stdout",
     "output_type": "stream",
     "text": [
      "1\n",
      "2\n",
      "3\n",
      "4\n",
      "5\n",
      "6\n"
     ]
    }
   ],
   "source": [
    "# list\n",
    "numbers = list(range(1,7))\n",
    "for n in numbers:\n",
    "    print(n)\n",
    "# loop"
   ]
  },
  {
   "cell_type": "markdown",
   "metadata": {},
   "source": [
    "2. Use the list you have created at point 1, loop over it and print the squared value of every element"
   ]
  },
  {
   "cell_type": "code",
   "execution_count": 4,
   "metadata": {},
   "outputs": [
    {
     "name": "stdout",
     "output_type": "stream",
     "text": [
      "1\n",
      "4\n",
      "9\n",
      "16\n",
      "25\n",
      "36\n"
     ]
    }
   ],
   "source": [
    "for n in numbers:\n",
    "    print(n**2)"
   ]
  },
  {
   "cell_type": "markdown",
   "metadata": {},
   "source": [
    "3. Create a list of 4 strings, loop over the list and print the string together with his length.  \n",
    " * E.g: *string:length*\n",
    " \n",
    "**Mandatory:** One string length must be = 5 "
   ]
  },
  {
   "cell_type": "code",
   "execution_count": 5,
   "metadata": {},
   "outputs": [
    {
     "name": "stdout",
     "output_type": "stream",
     "text": [
      "The word is fuerteventura and its length is 13\n",
      "The word is 2019 and its length is 4\n",
      "The word is beaches and its length is 7\n",
      "The word is surfing and its length is 7\n"
     ]
    }
   ],
   "source": [
    "# list of strings\n",
    "strings = ['fuerteventura','2019','beaches','surfing']\n",
    "# loop\n",
    "\n",
    "for word in strings:\n",
    "    print('The word is {} and its length is {}'.format(word,len(word)))\n"
   ]
  },
  {
   "cell_type": "markdown",
   "metadata": {},
   "source": [
    "3. Use the list you have created at point 3. Loop over it and print whether the string is >5, <5 or equal to 5."
   ]
  },
  {
   "cell_type": "code",
   "execution_count": 6,
   "metadata": {},
   "outputs": [
    {
     "name": "stdout",
     "output_type": "stream",
     "text": [
      "The length of the word fuerteventura is greater than 5\n",
      "The length of the word 2019 is smaller than 5\n",
      "The length of the word beaches is greater than 5\n",
      "The length of the word surfing is greater than 5\n"
     ]
    }
   ],
   "source": [
    "for word in strings:\n",
    "    if len(word)>5:\n",
    "        print('The length of the word {} is greater than 5'.format(word))\n",
    "    elif len(word)<5:\n",
    "        print('The length of the word {} is smaller than 5'.format(word))\n",
    "    else:\n",
    "        print('The length of the word {} is equal to 5'.format(word))"
   ]
  },
  {
   "cell_type": "markdown",
   "metadata": {},
   "source": [
    "## Iterating by sequence index\n",
    "\n",
    "4. Use the following list. Loop over it and print every element using the \"indexing\" method. The output should be:\n",
    " * *The animal is: animal name*"
   ]
  },
  {
   "cell_type": "code",
   "execution_count": 7,
   "metadata": {},
   "outputs": [
    {
     "name": "stdout",
     "output_type": "stream",
     "text": [
      "The animal is : cat\n",
      "The animal is : dog\n",
      "The animal is : cow\n",
      "The animal is : horse\n",
      "The animal is : goat\n"
     ]
    }
   ],
   "source": [
    "animals = ['cat', 'dog',  'cow', 'horse','goat']\n",
    "\n",
    "# loop\n",
    "\n",
    "for i in range(len(animals)):\n",
    "    print('The animal is : {}'.format(animals[i]))"
   ]
  },
  {
   "cell_type": "markdown",
   "metadata": {},
   "source": [
    "\n",
    "### Modulo\n",
    "The modulo allows us to get the remainder in a division and uses the % symbol.\n",
    "\n",
    "5. Craete a list in range from 1 to 12, loop over it and print out whether a number is even or odd."
   ]
  },
  {
   "cell_type": "code",
   "execution_count": 8,
   "metadata": {},
   "outputs": [
    {
     "name": "stdout",
     "output_type": "stream",
     "text": [
      "The number 1 is odd\n",
      "The number 2 is even\n",
      "The number 3 is odd\n",
      "The number 4 is even\n",
      "The number 5 is odd\n",
      "The number 6 is even\n",
      "The number 7 is odd\n",
      "The number 8 is even\n",
      "The number 9 is odd\n",
      "The number 10 is even\n",
      "The number 11 is odd\n",
      "The number 12 is even\n"
     ]
    }
   ],
   "source": [
    "# list\n",
    "integers = list(range(1,13))\n",
    "\n",
    "\n",
    "# loop\n",
    "for integer in integers:\n",
    "    if integer%2==0:\n",
    "        print('The number {} is even'.format(integer))\n",
    "    else:\n",
    "        print('The number {} is odd'.format(integer))\n"
   ]
  },
  {
   "cell_type": "markdown",
   "metadata": {},
   "source": [
    "6. Use the list below, loop over it and print out the sum of every number. Remember, use a counter outside the loop."
   ]
  },
  {
   "cell_type": "code",
   "execution_count": 10,
   "metadata": {},
   "outputs": [
    {
     "name": "stdout",
     "output_type": "stream",
     "text": [
      "The sum between 10 and 20 is 30\n",
      "The sum between 10 and 30 is 40\n",
      "The sum between 10 and 40 is 50\n",
      "The sum between 10 and 50 is 60\n",
      "The sum between 20 and 30 is 50\n",
      "The sum between 20 and 40 is 60\n",
      "The sum between 20 and 50 is 70\n",
      "The sum between 30 and 40 is 70\n",
      "The sum between 30 and 50 is 80\n",
      "The sum between 40 and 50 is 90\n"
     ]
    }
   ],
   "source": [
    "# list\n",
    "w = [10,20,30,40,50]\n",
    "\n",
    "# counter\n",
    "\n",
    "\n",
    "# loop\n",
    "for i in range(len(w)):\n",
    "    if i<len(w)-1:\n",
    "        for j in range(i+1,len(w)):\n",
    "            print('The sum between {} and {} is {}'.format(w[i],w[j],w[i]+w[j]))\n"
   ]
  },
  {
   "cell_type": "markdown",
   "metadata": {},
   "source": [
    "7. Use the two lists below, loop throug both of them and print out whether the sum of the couple of variable is odd or equal."
   ]
  },
  {
   "cell_type": "code",
   "execution_count": 11,
   "metadata": {},
   "outputs": [
    {
     "name": "stdout",
     "output_type": "stream",
     "text": [
      "1+1=2 and is even\n",
      "1+2=3 and is odd\n",
      "1+3=4 and is even\n",
      "1+4=5 and is odd\n",
      "2+1=3 and is odd\n",
      "2+2=4 and is even\n",
      "2+3=5 and is odd\n",
      "2+4=6 and is even\n",
      "3+1=4 and is even\n",
      "3+2=5 and is odd\n",
      "3+3=6 and is even\n",
      "3+4=7 and is odd\n",
      "4+1=5 and is odd\n",
      "4+2=6 and is even\n",
      "4+3=7 and is odd\n",
      "4+4=8 and is even\n"
     ]
    }
   ],
   "source": [
    "# lists\n",
    "W = [1,2,3,4]\n",
    "Z = [1,2,3,4]\n",
    "\n",
    "# loops\n",
    "for w in W:\n",
    "    for z in Z:\n",
    "        if (w+z)%2==0:\n",
    "            print('{}+{}={} and is even'.format(w,z,w+z))\n",
    "        else:\n",
    "            print('{}+{}={} and is odd'.format(w,z,w+z))\n",
    "        "
   ]
  },
  {
   "cell_type": "markdown",
   "metadata": {},
   "source": [
    "8. Use the list of tuple below, loop over it and print every single tuple."
   ]
  },
  {
   "cell_type": "code",
   "execution_count": 12,
   "metadata": {},
   "outputs": [
    {
     "name": "stdout",
     "output_type": "stream",
     "text": [
      "(5, 4)\n",
      "(4, 7)\n",
      "(8, 10)\n"
     ]
    }
   ],
   "source": [
    "# tuple list\n",
    "t_list = [(5,4),(4,7),(8,10)]\n",
    "\n",
    "# loop\n",
    "for t in t_list:\n",
    "    print(t)"
   ]
  },
  {
   "cell_type": "markdown",
   "metadata": {},
   "source": [
    "9. Loop over the list below and print the sum of the **first + second + third** element of every tuple. **Hint:** Tuple unpacking"
   ]
  },
  {
   "cell_type": "code",
   "execution_count": 20,
   "metadata": {},
   "outputs": [
    {
     "name": "stdout",
     "output_type": "stream",
     "text": [
      "The tuple is (5, 4) and the sum of its elements is 9\n",
      "The tuple is (4, 7) and the sum of its elements is 11\n",
      "The tuple is (8, 10) and the sum of its elements is 18\n"
     ]
    }
   ],
   "source": [
    "# loop\n",
    "for t in t_list:\n",
    "    print('The tuple is {} and the sum of its elements is {}'.format(t,sum(t)))"
   ]
  },
  {
   "cell_type": "markdown",
   "metadata": {},
   "source": [
    "10. Loop over the dictionary below and print both key and value "
   ]
  },
  {
   "cell_type": "code",
   "execution_count": 22,
   "metadata": {},
   "outputs": [],
   "source": [
    "dz = {'key1':88,'key2':23,'key3':72, 'key4':66}"
   ]
  },
  {
   "cell_type": "code",
   "execution_count": 31,
   "metadata": {},
   "outputs": [
    {
     "name": "stdout",
     "output_type": "stream",
     "text": [
      "The key is key1 and the associated value is 88\n",
      "The key is key2 and the associated value is 23\n",
      "The key is key3 and the associated value is 72\n",
      "The key is key4 and the associated value is 66\n"
     ]
    }
   ],
   "source": [
    "# dict loop\n",
    "for i in range(len(dz)):\n",
    "    print('The key is {} and the associated value is {}'.format(list(dz.keys())[i],dz[list(dz.keys())[i]]))"
   ]
  },
  {
   "cell_type": "markdown",
   "metadata": {},
   "source": [
    "11. Loop the **dz** dictionary and print out only the values."
   ]
  },
  {
   "cell_type": "code",
   "execution_count": 32,
   "metadata": {},
   "outputs": [
    {
     "name": "stdout",
     "output_type": "stream",
     "text": [
      "88\n",
      "23\n",
      "72\n",
      "66\n"
     ]
    }
   ],
   "source": [
    "# loop\n",
    "for i in range(len(dz)):\n",
    "    print(dz[list(dz.keys())[i]])"
   ]
  },
  {
   "cell_type": "markdown",
   "metadata": {},
   "source": [
    "11. Use the **dz** dictionary and the **t_list**. Loop throug both of them and print out the sum of every value of the dictionary with the first element of the tuple."
   ]
  },
  {
   "cell_type": "code",
   "execution_count": 33,
   "metadata": {},
   "outputs": [],
   "source": [
    "dz = {'key1':88,'key2':23,'key3':72, 'key4':66}\n",
    "t_list = [(5,4),(4,7),(8,10)]"
   ]
  },
  {
   "cell_type": "code",
   "execution_count": 37,
   "metadata": {},
   "outputs": [
    {
     "name": "stdout",
     "output_type": "stream",
     "text": [
      "88 + 5 = 93\n",
      "88 + 4 = 92\n",
      "88 + 8 = 96\n",
      "23 + 5 = 28\n",
      "23 + 4 = 27\n",
      "23 + 8 = 31\n",
      "72 + 5 = 77\n",
      "72 + 4 = 76\n",
      "72 + 8 = 80\n",
      "66 + 5 = 71\n",
      "66 + 4 = 70\n",
      "66 + 8 = 74\n"
     ]
    }
   ],
   "source": [
    "# loop\n",
    "values_dz = list(dz.values())\n",
    "t_tuple_first = [t[0] for t in t_list]\n",
    "\n",
    "for value in values_dz:\n",
    "    for t in t_tuple_first:\n",
    "        print('{} + {} = {}'.format(value,t,value+t))"
   ]
  },
  {
   "cell_type": "markdown",
   "metadata": {},
   "source": [
    "# Congratulation! You did a nice work!"
   ]
  },
  {
   "cell_type": "code",
   "execution_count": null,
   "metadata": {},
   "outputs": [],
   "source": []
  }
 ],
 "metadata": {
  "kernelspec": {
   "display_name": "Python 3",
   "language": "python",
   "name": "python3"
  },
  "language_info": {
   "codemirror_mode": {
    "name": "ipython",
    "version": 3
   },
   "file_extension": ".py",
   "mimetype": "text/x-python",
   "name": "python",
   "nbconvert_exporter": "python",
   "pygments_lexer": "ipython3",
   "version": "3.7.4"
  }
 },
 "nbformat": 4,
 "nbformat_minor": 1
}
