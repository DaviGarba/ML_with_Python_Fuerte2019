{
 "cells": [
  {
   "cell_type": "markdown",
   "metadata": {
    "collapsed": true
   },
   "source": [
    "# while loops\n",
    "![alt text](while.png \"while\")\n",
    "\n",
    "## Exercises\n",
    "Keep in mind the general format of a while loop:\n",
    "\n",
    "    while test:\n",
    "        code statement\n",
    "    else:\n",
    "        final code statements "
   ]
  },
  {
   "cell_type": "markdown",
   "metadata": {},
   "source": [
    "1. Write a simple while loop that prints all numbers from 0 to 8. The loop must stop when the condition == 8. When you print out the results try to use \"string formatting\"."
   ]
  },
  {
   "cell_type": "code",
   "execution_count": 3,
   "metadata": {},
   "outputs": [
    {
     "name": "stdout",
     "output_type": "stream",
     "text": [
      "The number is 0\n",
      "The number is 1\n",
      "The number is 2\n",
      "The number is 3\n",
      "The number is 4\n",
      "The number is 5\n",
      "The number is 6\n",
      "The number is 7\n"
     ]
    }
   ],
   "source": [
    "# counter\n",
    "number = 0\n",
    "\n",
    "# while loop\n",
    "while number < 8:\n",
    "    print('The number is {}'.format(number))\n",
    "    number = number +1"
   ]
  },
  {
   "cell_type": "markdown",
   "metadata": {},
   "source": [
    "2. Write a python while loop that prints all the numbers incremented by two unit. The sequence should be 2,4,6,8,10."
   ]
  },
  {
   "cell_type": "code",
   "execution_count": 5,
   "metadata": {},
   "outputs": [
    {
     "name": "stdout",
     "output_type": "stream",
     "text": [
      "The number is 2\n",
      "The number is 4\n",
      "The number is 6\n",
      "The number is 8\n",
      "The number is 10\n"
     ]
    }
   ],
   "source": [
    "# counter\n",
    "number = 2\n",
    "\n",
    "# while loop\n",
    "while number < 12:\n",
    "    print('The number is {}'.format(number))\n",
    "    number = number +2"
   ]
  },
  {
   "cell_type": "markdown",
   "metadata": {},
   "source": [
    "3. Write a while loop that prints out all even numbers from 77 to 103. Save all the odd numbers into a list, print the list at the end."
   ]
  },
  {
   "cell_type": "code",
   "execution_count": 8,
   "metadata": {},
   "outputs": [
    {
     "name": "stdout",
     "output_type": "stream",
     "text": [
      "77\n",
      "79\n",
      "81\n",
      "83\n",
      "85\n",
      "87\n",
      "89\n",
      "91\n",
      "93\n",
      "95\n",
      "97\n",
      "99\n",
      "101\n",
      "103\n"
     ]
    }
   ],
   "source": [
    "# list\n",
    "ss_ontt = list(range(77,104))\n",
    "ss_ontt_odd = []\n",
    "\n",
    "# counter\n",
    "k = 0\n",
    "\n",
    "# while loop\n",
    "while k<len(ss_ontt):\n",
    "    if ss_ontt[k]%2!=0:\n",
    "        ss_ontt_odd.append(ss_ontt[k])\n",
    "    k = k+1\n",
    "\n",
    "\n",
    "# print list\n",
    "for k in range(len(ss_ontt_odd)):\n",
    "    print(ss_ontt_odd[k])"
   ]
  },
  {
   "cell_type": "markdown",
   "metadata": {},
   "source": [
    "4. Write a while loop that prints out all numbers **NOT** divisible by 2 and 10 at the same time in the range from 77 to 103. Save the numbers divisible by 2 and 10 into a list."
   ]
  },
  {
   "cell_type": "code",
   "execution_count": 9,
   "metadata": {},
   "outputs": [
    {
     "name": "stdout",
     "output_type": "stream",
     "text": [
      "77\n",
      "78\n",
      "79\n",
      "81\n",
      "82\n",
      "83\n",
      "84\n",
      "85\n",
      "86\n",
      "87\n",
      "88\n",
      "89\n",
      "91\n",
      "92\n",
      "93\n",
      "94\n",
      "95\n",
      "96\n",
      "97\n",
      "98\n",
      "99\n",
      "101\n",
      "102\n",
      "103\n"
     ]
    }
   ],
   "source": [
    "# list\n",
    "ss_ontt_not_2_and_10 = []\n",
    "\n",
    "# counter\n",
    "k = 0\n",
    "\n",
    "# while loop\n",
    "while k<len(ss_ontt):\n",
    "    if ss_ontt[k]%2!=0 or ss_ontt[k]%10!=0:\n",
    "        ss_ontt_not_2_and_10.append(ss_ontt[k])\n",
    "    k = k+1\n",
    "\n",
    "\n",
    "# print list\n",
    "for k in range(len(ss_ontt_not_2_and_10)):\n",
    "    print(ss_ontt_not_2_and_10[k])"
   ]
  },
  {
   "cell_type": "markdown",
   "metadata": {},
   "source": [
    "5. Write a while loop that goes from 10 to 25. Print out every number, if a number is multiple of 9 break the loop, otherwise continue. "
   ]
  },
  {
   "cell_type": "code",
   "execution_count": 11,
   "metadata": {},
   "outputs": [
    {
     "name": "stdout",
     "output_type": "stream",
     "text": [
      "10\n",
      "11\n",
      "12\n",
      "13\n",
      "14\n",
      "15\n",
      "16\n",
      "17\n"
     ]
    }
   ],
   "source": [
    "# counter\n",
    "k = 10\n",
    "\n",
    "# while loop\n",
    "while k<26:\n",
    "    if k%9!=0:\n",
    "        print(k)\n",
    "        k = k+1\n",
    "    else:\n",
    "        break\n"
   ]
  },
  {
   "cell_type": "markdown",
   "metadata": {},
   "source": [
    "6. Use the list below. Write a while loop that prints out whether a number is inside the list or not. **Hint:** Use the min() max() buit-in method to find the min max value inside the list value of the list. E.g *min(list)*"
   ]
  },
  {
   "cell_type": "code",
   "execution_count": 3,
   "metadata": {},
   "outputs": [],
   "source": [
    "# list\n",
    "\n",
    "\n",
    "# counter\n",
    "\n",
    "\n",
    "# while loop\n",
    "\n"
   ]
  },
  {
   "cell_type": "markdown",
   "metadata": {
    "collapsed": true
   },
   "source": [
    "# Nice Job! "
   ]
  },
  {
   "cell_type": "code",
   "execution_count": null,
   "metadata": {},
   "outputs": [],
   "source": []
  },
  {
   "cell_type": "code",
   "execution_count": null,
   "metadata": {},
   "outputs": [],
   "source": []
  }
 ],
 "metadata": {
  "kernelspec": {
   "display_name": "Python 3",
   "language": "python",
   "name": "python3"
  },
  "language_info": {
   "codemirror_mode": {
    "name": "ipython",
    "version": 3
   },
   "file_extension": ".py",
   "mimetype": "text/x-python",
   "name": "python",
   "nbconvert_exporter": "python",
   "pygments_lexer": "ipython3",
   "version": "3.7.4"
  }
 },
 "nbformat": 4,
 "nbformat_minor": 1
}
